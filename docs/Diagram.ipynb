{
 "cells": [
  {
   "cell_type": "markdown",
   "metadata": {},
   "source": [
    "# UML"
   ]
  },
  {
   "cell_type": "code",
   "execution_count": 2,
   "metadata": {},
   "outputs": [],
   "source": [
    "import iplantuml"
   ]
  },
  {
   "cell_type": "markdown",
   "metadata": {},
   "source": [
    "## Class Diagram"
   ]
  },
  {
   "cell_type": "code",
   "execution_count": 3,
   "metadata": {},
   "outputs": [
    {
     "name": "stdout",
     "output_type": "stream",
     "text": [
      "Writing output for /home/chms/SSD_Sim/docs/041e4d07-ce1a-4288-9160-388bdeb4d7ed.uml to 041e4d07-ce1a-4288-9160-388bdeb4d7ed.svg\n"
     ]
    },
    {
     "data": {
      "image/svg+xml": [
       "<svg xmlns=\"http://www.w3.org/2000/svg\" xmlns:xlink=\"http://www.w3.org/1999/xlink\" contentStyleType=\"text/css\" height=\"304px\" preserveAspectRatio=\"none\" style=\"width:1602px;height:304px;background:#FFFFFF;\" version=\"1.1\" viewBox=\"0 0 1602 304\" width=\"1602px\" zoomAndPan=\"magnify\"><defs/><g><!--class Page--><g id=\"elem_Page\"><rect codeLine=\"1\" fill=\"#F1F1F1\" height=\"145.7813\" id=\"Page\" rx=\"2.5\" ry=\"2.5\" style=\"stroke:#181818;stroke-width:0.5;\" width=\"146\" x=\"1449\" y=\"102.5659\"/><ellipse cx=\"1500.25\" cy=\"118.5659\" fill=\"#ADD1B2\" rx=\"11\" ry=\"11\" style=\"stroke:#181818;stroke-width:1.0;\"/><path d=\"M1502.5938,114.2378 C1501.6563,113.8003 1501.0625,113.6597 1500.1875,113.6597 C1497.5625,113.6597 1495.5625,115.7378 1495.5625,118.4565 L1495.5625,119.5815 C1495.5625,122.1597 1497.6719,124.0503 1500.5625,124.0503 C1501.7813,124.0503 1502.9375,123.7534 1503.6875,123.2065 C1504.2656,122.8003 1504.5938,122.3472 1504.5938,121.9565 C1504.5938,121.5034 1504.2031,121.1128 1503.7344,121.1128 C1503.5156,121.1128 1503.3125,121.1909 1503.125,121.3784 C1502.6719,121.8628 1502.6719,121.8628 1502.4844,121.9565 C1502.0625,122.2222 1501.375,122.3472 1500.6094,122.3472 C1498.5625,122.3472 1497.2656,121.2534 1497.2656,119.5503 L1497.2656,118.4565 C1497.2656,116.6753 1498.5156,115.3628 1500.25,115.3628 C1500.8281,115.3628 1501.4375,115.519 1501.9063,115.769 C1502.3906,116.0503 1502.5625,116.269 1502.6563,116.6753 C1502.7188,117.0815 1502.75,117.2065 1502.8906,117.3315 C1503.0313,117.4722 1503.2656,117.5815 1503.4844,117.5815 C1503.75,117.5815 1504.0156,117.4409 1504.1875,117.2222 C1504.2969,117.0659 1504.3281,116.8784 1504.3281,116.4565 L1504.3281,115.0347 C1504.3281,114.5972 1504.3125,114.4722 1504.2188,114.3159 C1504.0625,114.0503 1503.7813,113.9097 1503.4844,113.9097 C1503.1875,113.9097 1502.9844,114.0034 1502.7656,114.3159 L1502.5938,114.2378 Z \" fill=\"#000000\"/><text fill=\"#000000\" font-family=\"sans-serif\" font-size=\"14\" lengthAdjust=\"spacing\" textLength=\"35\" x=\"1520.75\" y=\"123.4126\">Page</text><line style=\"stroke:#181818;stroke-width:0.5;\" x1=\"1450\" x2=\"1594\" y1=\"134.5659\" y2=\"134.5659\"/><rect fill=\"none\" height=\"6\" style=\"stroke:#C82930;stroke-width:1.0;\" width=\"6\" x=\"1457\" y=\"145.2144\"/><text fill=\"#000000\" font-family=\"sans-serif\" font-size=\"14\" lengthAdjust=\"spacing\" textLength=\"53\" x=\"1469\" y=\"151.561\">int ppn</text><rect fill=\"none\" height=\"6\" style=\"stroke:#C82930;stroke-width:1.0;\" width=\"6\" x=\"1457\" y=\"161.5112\"/><text fill=\"#000000\" font-family=\"sans-serif\" font-size=\"14\" lengthAdjust=\"spacing\" textLength=\"69\" x=\"1469\" y=\"167.8579\">bool valid</text><line style=\"stroke:#181818;stroke-width:0.5;\" x1=\"1450\" x2=\"1594\" y1=\"175.1597\" y2=\"175.1597\"/><ellipse cx=\"1460\" cy=\"188.8081\" fill=\"#84BE84\" rx=\"3\" ry=\"3\" style=\"stroke:#038048;stroke-width:1.0;\"/><text fill=\"#000000\" font-family=\"sans-serif\" font-size=\"14\" lengthAdjust=\"spacing\" textLength=\"95\" x=\"1469\" y=\"192.1548\">int get_ppn()</text><ellipse cx=\"1460\" cy=\"205.105\" fill=\"#84BE84\" rx=\"3\" ry=\"3\" style=\"stroke:#038048;stroke-width:1.0;\"/><text fill=\"#000000\" font-family=\"sans-serif\" font-size=\"14\" lengthAdjust=\"spacing\" textLength=\"107\" x=\"1469\" y=\"208.4517\">void set_valid()</text><ellipse cx=\"1460\" cy=\"221.4019\" fill=\"#84BE84\" rx=\"3\" ry=\"3\" style=\"stroke:#038048;stroke-width:1.0;\"/><text fill=\"#000000\" font-family=\"sans-serif\" font-size=\"14\" lengthAdjust=\"spacing\" textLength=\"120\" x=\"1469\" y=\"224.7485\">void set_invalid()</text><ellipse cx=\"1460\" cy=\"237.6987\" fill=\"#84BE84\" rx=\"3\" ry=\"3\" style=\"stroke:#038048;stroke-width:1.0;\"/><text fill=\"#000000\" font-family=\"sans-serif\" font-size=\"14\" lengthAdjust=\"spacing\" textLength=\"111\" x=\"1469\" y=\"241.0454\">bool get_valid()</text></g><!--class Block--><g id=\"elem_Block\"><rect codeLine=\"11\" fill=\"#F1F1F1\" height=\"113.1875\" id=\"Block\" rx=\"2.5\" ry=\"2.5\" style=\"stroke:#181818;stroke-width:0.5;\" width=\"170\" x=\"1197\" y=\"119.0659\"/><ellipse cx=\"1257.75\" cy=\"135.0659\" fill=\"#ADD1B2\" rx=\"11\" ry=\"11\" style=\"stroke:#181818;stroke-width:1.0;\"/><path d=\"M1260.0938,130.7378 C1259.1563,130.3003 1258.5625,130.1597 1257.6875,130.1597 C1255.0625,130.1597 1253.0625,132.2378 1253.0625,134.9565 L1253.0625,136.0815 C1253.0625,138.6597 1255.1719,140.5503 1258.0625,140.5503 C1259.2813,140.5503 1260.4375,140.2534 1261.1875,139.7065 C1261.7656,139.3003 1262.0938,138.8472 1262.0938,138.4565 C1262.0938,138.0034 1261.7031,137.6128 1261.2344,137.6128 C1261.0156,137.6128 1260.8125,137.6909 1260.625,137.8784 C1260.1719,138.3628 1260.1719,138.3628 1259.9844,138.4565 C1259.5625,138.7222 1258.875,138.8472 1258.1094,138.8472 C1256.0625,138.8472 1254.7656,137.7534 1254.7656,136.0503 L1254.7656,134.9565 C1254.7656,133.1753 1256.0156,131.8628 1257.75,131.8628 C1258.3281,131.8628 1258.9375,132.019 1259.4063,132.269 C1259.8906,132.5503 1260.0625,132.769 1260.1563,133.1753 C1260.2188,133.5815 1260.25,133.7065 1260.3906,133.8315 C1260.5313,133.9722 1260.7656,134.0815 1260.9844,134.0815 C1261.25,134.0815 1261.5156,133.9409 1261.6875,133.7222 C1261.7969,133.5659 1261.8281,133.3784 1261.8281,132.9565 L1261.8281,131.5347 C1261.8281,131.0972 1261.8125,130.9722 1261.7188,130.8159 C1261.5625,130.5503 1261.2813,130.4097 1260.9844,130.4097 C1260.6875,130.4097 1260.4844,130.5034 1260.2656,130.8159 L1260.0938,130.7378 Z \" fill=\"#000000\"/><text fill=\"#000000\" font-family=\"sans-serif\" font-size=\"14\" lengthAdjust=\"spacing\" textLength=\"40\" x=\"1278.25\" y=\"139.9126\">Block</text><line style=\"stroke:#181818;stroke-width:0.5;\" x1=\"1198\" x2=\"1366\" y1=\"151.0659\" y2=\"151.0659\"/><rect fill=\"none\" height=\"6\" style=\"stroke:#C82930;stroke-width:1.0;\" width=\"6\" x=\"1205\" y=\"161.7144\"/><text fill=\"#000000\" font-family=\"sans-serif\" font-size=\"14\" lengthAdjust=\"spacing\" textLength=\"102\" x=\"1217\" y=\"168.061\">int block_num</text><rect fill=\"none\" height=\"6\" style=\"stroke:#C82930;stroke-width:1.0;\" width=\"6\" x=\"1205\" y=\"178.0112\"/><text fill=\"#000000\" font-family=\"sans-serif\" font-size=\"14\" lengthAdjust=\"spacing\" textLength=\"92\" x=\"1217\" y=\"184.3579\">Page pages[]</text><line style=\"stroke:#181818;stroke-width:0.5;\" x1=\"1198\" x2=\"1366\" y1=\"191.6597\" y2=\"191.6597\"/><ellipse cx=\"1208\" cy=\"205.3081\" fill=\"#84BE84\" rx=\"3\" ry=\"3\" style=\"stroke:#038048;stroke-width:1.0;\"/><text fill=\"#000000\" font-family=\"sans-serif\" font-size=\"14\" lengthAdjust=\"spacing\" textLength=\"144\" x=\"1217\" y=\"208.6548\">int get_block_num()</text><ellipse cx=\"1208\" cy=\"221.605\" fill=\"#84BE84\" rx=\"3\" ry=\"3\" style=\"stroke:#038048;stroke-width:1.0;\"/><text fill=\"#000000\" font-family=\"sans-serif\" font-size=\"14\" lengthAdjust=\"spacing\" textLength=\"124\" x=\"1217\" y=\"224.9517\">Page get_pages()</text></g><!--class Chip--><g id=\"elem_Chip\"><rect codeLine=\"19\" fill=\"#F1F1F1\" height=\"113.1875\" id=\"Chip\" rx=\"2.5\" ry=\"2.5\" style=\"stroke:#181818;stroke-width:0.5;\" width=\"161\" x=\"954.5\" y=\"119.0659\"/><ellipse cx=\"1014.25\" cy=\"135.0659\" fill=\"#ADD1B2\" rx=\"11\" ry=\"11\" style=\"stroke:#181818;stroke-width:1.0;\"/><path d=\"M1016.5938,130.7378 C1015.6563,130.3003 1015.0625,130.1597 1014.1875,130.1597 C1011.5625,130.1597 1009.5625,132.2378 1009.5625,134.9565 L1009.5625,136.0815 C1009.5625,138.6597 1011.6719,140.5503 1014.5625,140.5503 C1015.7813,140.5503 1016.9375,140.2534 1017.6875,139.7065 C1018.2656,139.3003 1018.5938,138.8472 1018.5938,138.4565 C1018.5938,138.0034 1018.2031,137.6128 1017.7344,137.6128 C1017.5156,137.6128 1017.3125,137.6909 1017.125,137.8784 C1016.6719,138.3628 1016.6719,138.3628 1016.4844,138.4565 C1016.0625,138.7222 1015.375,138.8472 1014.6094,138.8472 C1012.5625,138.8472 1011.2656,137.7534 1011.2656,136.0503 L1011.2656,134.9565 C1011.2656,133.1753 1012.5156,131.8628 1014.25,131.8628 C1014.8281,131.8628 1015.4375,132.019 1015.9063,132.269 C1016.3906,132.5503 1016.5625,132.769 1016.6563,133.1753 C1016.7188,133.5815 1016.75,133.7065 1016.8906,133.8315 C1017.0313,133.9722 1017.2656,134.0815 1017.4844,134.0815 C1017.75,134.0815 1018.0156,133.9409 1018.1875,133.7222 C1018.2969,133.5659 1018.3281,133.3784 1018.3281,132.9565 L1018.3281,131.5347 C1018.3281,131.0972 1018.3125,130.9722 1018.2188,130.8159 C1018.0625,130.5503 1017.7813,130.4097 1017.4844,130.4097 C1017.1875,130.4097 1016.9844,130.5034 1016.7656,130.8159 L1016.5938,130.7378 Z \" fill=\"#000000\"/><text fill=\"#000000\" font-family=\"sans-serif\" font-size=\"14\" lengthAdjust=\"spacing\" textLength=\"33\" x=\"1034.75\" y=\"139.9126\">Chip</text><line style=\"stroke:#181818;stroke-width:0.5;\" x1=\"955.5\" x2=\"1114.5\" y1=\"151.0659\" y2=\"151.0659\"/><rect fill=\"none\" height=\"6\" style=\"stroke:#C82930;stroke-width:1.0;\" width=\"6\" x=\"962.5\" y=\"161.7144\"/><text fill=\"#000000\" font-family=\"sans-serif\" font-size=\"14\" lengthAdjust=\"spacing\" textLength=\"93\" x=\"974.5\" y=\"168.061\">int chip_num</text><rect fill=\"none\" height=\"6\" style=\"stroke:#C82930;stroke-width:1.0;\" width=\"6\" x=\"962.5\" y=\"178.0112\"/><text fill=\"#000000\" font-family=\"sans-serif\" font-size=\"14\" lengthAdjust=\"spacing\" textLength=\"101\" x=\"974.5\" y=\"184.3579\">Block blocks[]</text><line style=\"stroke:#181818;stroke-width:0.5;\" x1=\"955.5\" x2=\"1114.5\" y1=\"191.6597\" y2=\"191.6597\"/><ellipse cx=\"965.5\" cy=\"205.3081\" fill=\"#84BE84\" rx=\"3\" ry=\"3\" style=\"stroke:#038048;stroke-width:1.0;\"/><text fill=\"#000000\" font-family=\"sans-serif\" font-size=\"14\" lengthAdjust=\"spacing\" textLength=\"135\" x=\"974.5\" y=\"208.6548\">int get_chip_num()</text><ellipse cx=\"965.5\" cy=\"221.605\" fill=\"#84BE84\" rx=\"3\" ry=\"3\" style=\"stroke:#038048;stroke-width:1.0;\"/><text fill=\"#000000\" font-family=\"sans-serif\" font-size=\"14\" lengthAdjust=\"spacing\" textLength=\"133\" x=\"974.5\" y=\"224.9517\">Block get_blocks()</text></g><!--class SuperBlock--><g id=\"elem_SuperBlock\"><rect codeLine=\"27\" fill=\"#F1F1F1\" height=\"113.1875\" id=\"SuperBlock\" rx=\"2.5\" ry=\"2.5\" style=\"stroke:#181818;stroke-width:0.5;\" width=\"217\" x=\"702.5\" y=\"119.0659\"/><ellipse cx=\"765.75\" cy=\"135.0659\" fill=\"#ADD1B2\" rx=\"11\" ry=\"11\" style=\"stroke:#181818;stroke-width:1.0;\"/><path d=\"M768.0938,130.7378 C767.1563,130.3003 766.5625,130.1597 765.6875,130.1597 C763.0625,130.1597 761.0625,132.2378 761.0625,134.9565 L761.0625,136.0815 C761.0625,138.6597 763.1719,140.5503 766.0625,140.5503 C767.2813,140.5503 768.4375,140.2534 769.1875,139.7065 C769.7656,139.3003 770.0938,138.8472 770.0938,138.4565 C770.0938,138.0034 769.7031,137.6128 769.2344,137.6128 C769.0156,137.6128 768.8125,137.6909 768.625,137.8784 C768.1719,138.3628 768.1719,138.3628 767.9844,138.4565 C767.5625,138.7222 766.875,138.8472 766.1094,138.8472 C764.0625,138.8472 762.7656,137.7534 762.7656,136.0503 L762.7656,134.9565 C762.7656,133.1753 764.0156,131.8628 765.75,131.8628 C766.3281,131.8628 766.9375,132.019 767.4063,132.269 C767.8906,132.5503 768.0625,132.769 768.1563,133.1753 C768.2188,133.5815 768.25,133.7065 768.3906,133.8315 C768.5313,133.9722 768.7656,134.0815 768.9844,134.0815 C769.25,134.0815 769.5156,133.9409 769.6875,133.7222 C769.7969,133.5659 769.8281,133.3784 769.8281,132.9565 L769.8281,131.5347 C769.8281,131.0972 769.8125,130.9722 769.7188,130.8159 C769.5625,130.5503 769.2813,130.4097 768.9844,130.4097 C768.6875,130.4097 768.4844,130.5034 768.2656,130.8159 L768.0938,130.7378 Z \" fill=\"#000000\"/><text fill=\"#000000\" font-family=\"sans-serif\" font-size=\"14\" lengthAdjust=\"spacing\" textLength=\"82\" x=\"786.25\" y=\"139.9126\">SuperBlock</text><line style=\"stroke:#181818;stroke-width:0.5;\" x1=\"703.5\" x2=\"918.5\" y1=\"151.0659\" y2=\"151.0659\"/><rect fill=\"none\" height=\"6\" style=\"stroke:#C82930;stroke-width:1.0;\" width=\"6\" x=\"710.5\" y=\"161.7144\"/><text fill=\"#000000\" font-family=\"sans-serif\" font-size=\"14\" lengthAdjust=\"spacing\" textLength=\"149\" x=\"722.5\" y=\"168.061\">int super_block_num</text><rect fill=\"none\" height=\"6\" style=\"stroke:#C82930;stroke-width:1.0;\" width=\"6\" x=\"710.5\" y=\"178.0112\"/><text fill=\"#000000\" font-family=\"sans-serif\" font-size=\"14\" lengthAdjust=\"spacing\" textLength=\"101\" x=\"722.5\" y=\"184.3579\">Block blocks[]</text><line style=\"stroke:#181818;stroke-width:0.5;\" x1=\"703.5\" x2=\"918.5\" y1=\"191.6597\" y2=\"191.6597\"/><ellipse cx=\"713.5\" cy=\"205.3081\" fill=\"#84BE84\" rx=\"3\" ry=\"3\" style=\"stroke:#038048;stroke-width:1.0;\"/><text fill=\"#000000\" font-family=\"sans-serif\" font-size=\"14\" lengthAdjust=\"spacing\" textLength=\"191\" x=\"722.5\" y=\"208.6548\">int get_super_block_num()</text><ellipse cx=\"713.5\" cy=\"221.605\" fill=\"#84BE84\" rx=\"3\" ry=\"3\" style=\"stroke:#038048;stroke-width:1.0;\"/><text fill=\"#000000\" font-family=\"sans-serif\" font-size=\"14\" lengthAdjust=\"spacing\" textLength=\"133\" x=\"722.5\" y=\"224.9517\">Block get_blocks()</text></g><!--class SuperChip--><g id=\"elem_SuperChip\"><rect codeLine=\"35\" fill=\"#F1F1F1\" height=\"113.1875\" id=\"SuperChip\" rx=\"2.5\" ry=\"2.5\" style=\"stroke:#181818;stroke-width:0.5;\" width=\"248\" x=\"373\" y=\"119.0659\"/><ellipse cx=\"455.25\" cy=\"135.0659\" fill=\"#ADD1B2\" rx=\"11\" ry=\"11\" style=\"stroke:#181818;stroke-width:1.0;\"/><path d=\"M457.5938,130.7378 C456.6563,130.3003 456.0625,130.1597 455.1875,130.1597 C452.5625,130.1597 450.5625,132.2378 450.5625,134.9565 L450.5625,136.0815 C450.5625,138.6597 452.6719,140.5503 455.5625,140.5503 C456.7813,140.5503 457.9375,140.2534 458.6875,139.7065 C459.2656,139.3003 459.5938,138.8472 459.5938,138.4565 C459.5938,138.0034 459.2031,137.6128 458.7344,137.6128 C458.5156,137.6128 458.3125,137.6909 458.125,137.8784 C457.6719,138.3628 457.6719,138.3628 457.4844,138.4565 C457.0625,138.7222 456.375,138.8472 455.6094,138.8472 C453.5625,138.8472 452.2656,137.7534 452.2656,136.0503 L452.2656,134.9565 C452.2656,133.1753 453.5156,131.8628 455.25,131.8628 C455.8281,131.8628 456.4375,132.019 456.9063,132.269 C457.3906,132.5503 457.5625,132.769 457.6563,133.1753 C457.7188,133.5815 457.75,133.7065 457.8906,133.8315 C458.0313,133.9722 458.2656,134.0815 458.4844,134.0815 C458.75,134.0815 459.0156,133.9409 459.1875,133.7222 C459.2969,133.5659 459.3281,133.3784 459.3281,132.9565 L459.3281,131.5347 C459.3281,131.0972 459.3125,130.9722 459.2188,130.8159 C459.0625,130.5503 458.7813,130.4097 458.4844,130.4097 C458.1875,130.4097 457.9844,130.5034 457.7656,130.8159 L457.5938,130.7378 Z \" fill=\"#000000\"/><text fill=\"#000000\" font-family=\"sans-serif\" font-size=\"14\" lengthAdjust=\"spacing\" textLength=\"75\" x=\"475.75\" y=\"139.9126\">SuperChip</text><line style=\"stroke:#181818;stroke-width:0.5;\" x1=\"374\" x2=\"620\" y1=\"151.0659\" y2=\"151.0659\"/><rect fill=\"none\" height=\"6\" style=\"stroke:#C82930;stroke-width:1.0;\" width=\"6\" x=\"381\" y=\"161.7144\"/><text fill=\"#000000\" font-family=\"sans-serif\" font-size=\"14\" lengthAdjust=\"spacing\" textLength=\"140\" x=\"393\" y=\"168.061\">int super_chip_num</text><rect fill=\"none\" height=\"6\" style=\"stroke:#C82930;stroke-width:1.0;\" width=\"6\" x=\"381\" y=\"178.0112\"/><text fill=\"#000000\" font-family=\"sans-serif\" font-size=\"14\" lengthAdjust=\"spacing\" textLength=\"190\" x=\"393\" y=\"184.3579\">SuperBlock super_blocks[]</text><line style=\"stroke:#181818;stroke-width:0.5;\" x1=\"374\" x2=\"620\" y1=\"191.6597\" y2=\"191.6597\"/><ellipse cx=\"384\" cy=\"205.3081\" fill=\"#84BE84\" rx=\"3\" ry=\"3\" style=\"stroke:#038048;stroke-width:1.0;\"/><text fill=\"#000000\" font-family=\"sans-serif\" font-size=\"14\" lengthAdjust=\"spacing\" textLength=\"182\" x=\"393\" y=\"208.6548\">int get_super_chip_num()</text><ellipse cx=\"384\" cy=\"221.605\" fill=\"#84BE84\" rx=\"3\" ry=\"3\" style=\"stroke:#038048;stroke-width:1.0;\"/><text fill=\"#000000\" font-family=\"sans-serif\" font-size=\"14\" lengthAdjust=\"spacing\" textLength=\"222\" x=\"393\" y=\"224.9517\">SuperBlock get_super_blocks()</text></g><!--class FTL--><g id=\"elem_FTL\"><rect codeLine=\"43\" fill=\"#F1F1F1\" height=\"243.5625\" id=\"FTL\" rx=\"2.5\" ry=\"2.5\" style=\"stroke:#181818;stroke-width:0.5;\" width=\"284\" x=\"7\" y=\"53.5659\"/><ellipse cx=\"132.25\" cy=\"69.5659\" fill=\"#ADD1B2\" rx=\"11\" ry=\"11\" style=\"stroke:#181818;stroke-width:1.0;\"/><path d=\"M134.5938,65.2378 C133.6563,64.8003 133.0625,64.6597 132.1875,64.6597 C129.5625,64.6597 127.5625,66.7378 127.5625,69.4565 L127.5625,70.5815 C127.5625,73.1597 129.6719,75.0503 132.5625,75.0503 C133.7813,75.0503 134.9375,74.7534 135.6875,74.2065 C136.2656,73.8003 136.5938,73.3472 136.5938,72.9565 C136.5938,72.5034 136.2031,72.1128 135.7344,72.1128 C135.5156,72.1128 135.3125,72.1909 135.125,72.3784 C134.6719,72.8628 134.6719,72.8628 134.4844,72.9565 C134.0625,73.2222 133.375,73.3472 132.6094,73.3472 C130.5625,73.3472 129.2656,72.2534 129.2656,70.5503 L129.2656,69.4565 C129.2656,67.6753 130.5156,66.3628 132.25,66.3628 C132.8281,66.3628 133.4375,66.519 133.9063,66.769 C134.3906,67.0503 134.5625,67.269 134.6563,67.6753 C134.7188,68.0815 134.75,68.2065 134.8906,68.3315 C135.0313,68.4722 135.2656,68.5815 135.4844,68.5815 C135.75,68.5815 136.0156,68.4409 136.1875,68.2222 C136.2969,68.0659 136.3281,67.8784 136.3281,67.4565 L136.3281,66.0347 C136.3281,65.5972 136.3125,65.4722 136.2188,65.3159 C136.0625,65.0503 135.7813,64.9097 135.4844,64.9097 C135.1875,64.9097 134.9844,65.0034 134.7656,65.3159 L134.5938,65.2378 Z \" fill=\"#000000\"/><text fill=\"#000000\" font-family=\"sans-serif\" font-size=\"14\" lengthAdjust=\"spacing\" textLength=\"25\" x=\"152.75\" y=\"74.4126\">FTL</text><line style=\"stroke:#181818;stroke-width:0.5;\" x1=\"8\" x2=\"290\" y1=\"85.5659\" y2=\"85.5659\"/><ellipse cx=\"18\" cy=\"99.2144\" fill=\"none\" rx=\"3\" ry=\"3\" style=\"stroke:#038048;stroke-width:1.0;\"/><text fill=\"#000000\" font-family=\"sans-serif\" font-size=\"14\" lengthAdjust=\"spacing\" textLength=\"146\" x=\"27\" y=\"102.561\">int user_write_count</text><ellipse cx=\"18\" cy=\"115.5112\" fill=\"none\" rx=\"3\" ry=\"3\" style=\"stroke:#038048;stroke-width:1.0;\"/><text fill=\"#000000\" font-family=\"sans-serif\" font-size=\"14\" lengthAdjust=\"spacing\" textLength=\"133\" x=\"27\" y=\"118.8579\">int ftl_write_count</text><rect fill=\"none\" height=\"6\" style=\"stroke:#C82930;stroke-width:1.0;\" width=\"6\" x=\"15\" y=\"128.8081\"/><text fill=\"#000000\" font-family=\"sans-serif\" font-size=\"14\" lengthAdjust=\"spacing\" textLength=\"80\" x=\"27\" y=\"135.1548\">int channel</text><rect fill=\"none\" height=\"6\" style=\"stroke:#C82930;stroke-width:1.0;\" width=\"6\" x=\"15\" y=\"145.105\"/><text fill=\"#000000\" font-family=\"sans-serif\" font-size=\"14\" lengthAdjust=\"spacing\" textLength=\"51\" x=\"27\" y=\"151.4517\">int way</text><rect fill=\"none\" height=\"6\" style=\"stroke:#C82930;stroke-width:1.0;\" width=\"6\" x=\"15\" y=\"161.4019\"/><text fill=\"#000000\" font-family=\"sans-serif\" font-size=\"14\" lengthAdjust=\"spacing\" textLength=\"174\" x=\"27\" y=\"167.7485\">SuperChip super_chips[]</text><rect fill=\"none\" height=\"6\" style=\"stroke:#C82930;stroke-width:1.0;\" width=\"6\" x=\"15\" y=\"177.6987\"/><text fill=\"#000000\" font-family=\"sans-serif\" font-size=\"14\" lengthAdjust=\"spacing\" textLength=\"200\" x=\"27\" y=\"184.0454\">dict mapping_table_lba_lpn</text><rect fill=\"none\" height=\"6\" style=\"stroke:#C82930;stroke-width:1.0;\" width=\"6\" x=\"15\" y=\"193.9956\"/><text fill=\"#000000\" font-family=\"sans-serif\" font-size=\"14\" lengthAdjust=\"spacing\" textLength=\"207\" x=\"27\" y=\"200.3423\">dict mapping_table_lpn_ppn</text><line style=\"stroke:#181818;stroke-width:0.5;\" x1=\"8\" x2=\"290\" y1=\"207.644\" y2=\"207.644\"/><ellipse cx=\"18\" cy=\"221.2925\" fill=\"#84BE84\" rx=\"3\" ry=\"3\" style=\"stroke:#038048;stroke-width:1.0;\"/><text fill=\"#000000\" font-family=\"sans-serif\" font-size=\"14\" lengthAdjust=\"spacing\" textLength=\"258\" x=\"27\" y=\"224.6392\">void set_channel(int channel_count)</text><ellipse cx=\"18\" cy=\"237.5894\" fill=\"#84BE84\" rx=\"3\" ry=\"3\" style=\"stroke:#038048;stroke-width:1.0;\"/><text fill=\"#000000\" font-family=\"sans-serif\" font-size=\"14\" lengthAdjust=\"spacing\" textLength=\"200\" x=\"27\" y=\"240.936\">void set_way(int way_count)</text><ellipse cx=\"18\" cy=\"253.8862\" fill=\"#84BE84\" rx=\"3\" ry=\"3\" style=\"stroke:#038048;stroke-width:1.0;\"/><text fill=\"#000000\" font-family=\"sans-serif\" font-size=\"14\" lengthAdjust=\"spacing\" textLength=\"187\" x=\"27\" y=\"257.2329\">void write(int lba, int size)</text><ellipse cx=\"18\" cy=\"270.1831\" fill=\"#84BE84\" rx=\"3\" ry=\"3\" style=\"stroke:#038048;stroke-width:1.0;\"/><text fill=\"#000000\" font-family=\"sans-serif\" font-size=\"14\" lengthAdjust=\"spacing\" textLength=\"198\" x=\"27\" y=\"273.5298\">void do_gc(int block_count)</text><ellipse cx=\"18\" cy=\"286.48\" fill=\"#84BE84\" rx=\"3\" ry=\"3\" style=\"stroke:#038048;stroke-width:1.0;\"/><text fill=\"#000000\" font-family=\"sans-serif\" font-size=\"14\" lengthAdjust=\"spacing\" textLength=\"166\" x=\"27\" y=\"289.8267\">void do_wear_leveling()</text></g><!--link FTL to SuperChip--><g id=\"link_FTL_SuperChip\"><path codeLine=\"58\" d=\"M291.047,175.5659 C318.204,175.5659 346.437,175.5659 372.975,175.5659 \" fill=\"none\" id=\"FTL-SuperChip\" style=\"stroke:#181818;stroke-width:1.0;\"/><polygon fill=\"#000000\" points=\"318.5,164.1323,309.4549,161.1934,309.4549,167.0713,318.5,164.1323\" style=\"stroke:#000000;stroke-width:1.0;\"/><text fill=\"#000000\" font-family=\"sans-serif\" font-size=\"13\" lengthAdjust=\"spacing\" textLength=\"32\" x=\"322.5\" y=\"168.6328\">have</text></g><!--link SuperChip to SuperBlock--><g id=\"link_SuperChip_SuperBlock\"><path codeLine=\"59\" d=\"M621.101,175.5659 C647.929,175.5659 676.098,175.5659 702.283,175.5659 \" fill=\"none\" id=\"SuperChip-SuperBlock\" style=\"stroke:#181818;stroke-width:1.0;\"/><polygon fill=\"#000000\" points=\"648.25,164.1323,639.2049,161.1934,639.2049,167.0713,648.25,164.1323\" style=\"stroke:#000000;stroke-width:1.0;\"/><text fill=\"#000000\" font-family=\"sans-serif\" font-size=\"13\" lengthAdjust=\"spacing\" textLength=\"32\" x=\"652.25\" y=\"168.6328\">have</text></g><!--link SuperBlock to Block--><g id=\"link_SuperBlock_Block\"><path codeLine=\"60\" d=\"M856.908,118.7569 C878.796,95.2239 906.787,69.7089 937,53.5659 C994.239,22.9829 1017.82,20.0809 1081.5,32.5659 C1138.98,43.8349 1192.36,83.9969 1229.57,118.8999 \" fill=\"none\" id=\"SuperBlock-Block\" style=\"stroke:#181818;stroke-width:1.0;\"/><polygon fill=\"#000000\" points=\"1044.5,15.1342,1035.456,12.1918,1035.4538,18.0697,1044.5,15.1342\" style=\"stroke:#000000;stroke-width:1.0;\"/><text fill=\"#000000\" font-family=\"sans-serif\" font-size=\"13\" lengthAdjust=\"spacing\" textLength=\"32\" x=\"1048.5\" y=\"19.6328\">have</text></g><!--link Chip to Block--><g id=\"link_Chip_Block\"><path codeLine=\"61\" d=\"M1115.54,175.5659 C1141.58,175.5659 1170.54,175.5659 1196.9,175.5659 \" fill=\"none\" id=\"Chip-Block\" style=\"stroke:#181818;stroke-width:1.0;\"/><polygon fill=\"#000000\" points=\"1142.75,164.1323,1133.7049,161.1934,1133.7049,167.0713,1142.75,164.1323\" style=\"stroke:#000000;stroke-width:1.0;\"/><text fill=\"#000000\" font-family=\"sans-serif\" font-size=\"13\" lengthAdjust=\"spacing\" textLength=\"32\" x=\"1146.75\" y=\"168.6328\">have</text></g><!--link Block to Page--><g id=\"link_Block_Page\"><path codeLine=\"62\" d=\"M1367.29,175.5659 C1393.97,175.5659 1423.15,175.5659 1448.91,175.5659 \" fill=\"none\" id=\"Block-Page\" style=\"stroke:#181818;stroke-width:1.0;\"/><polygon fill=\"#000000\" points=\"1394.5,164.1323,1385.4549,161.1934,1385.4549,167.0713,1394.5,164.1323\" style=\"stroke:#000000;stroke-width:1.0;\"/><text fill=\"#000000\" font-family=\"sans-serif\" font-size=\"13\" lengthAdjust=\"spacing\" textLength=\"32\" x=\"1398.5\" y=\"168.6328\">have</text></g><!--SRC=[ZPFDJiGW58NtVGgMDJeluCA59gvSc3WxOmYbs24oG0fjenFVNGg5kS1ed4MJEVTmptVveO8OWvx9m9fJWznlXxYqI6kv_UkK4cWcWlTUkFRbWLdiBEtLfisAzyWuqHjhcSkyu9iEmF_TDDIJt0j5FpAKRbMmd8wRjh8YxJxczQr0IjOKvCsUTbq0WnuEN6Svr0aWneE4y3eeUbDES2U6BEbbqcoivpAhZClf_emjblm_lHesT2f6FeD2kDymgZq0omlO3EXn_tG23IVZNCl8BSDKJTA2qhiLLIMU5P6I2Q0iv1DEiGuCXempx53FgKL7eZMN0xQa4moBZc2HxlibWvOuFWXmgJU85W05qEhwExXsWxpWy2FwkYEv2SV3lrZcwHKUQ7j-3dKNvrWO6R5WCnEEFMovs-niIsxHWSmCtJLdAJltl1wqU2bJRLjMgD7idrnKVm00]--></g></svg>"
      ],
      "text/plain": [
       "<IPython.core.display.SVG object>"
      ]
     },
     "execution_count": 3,
     "metadata": {},
     "output_type": "execute_result"
    }
   ],
   "source": [
    "%%plantuml\n",
    "@startuml\n",
    "\n",
    "class Page\n",
    "{\n",
    "    - int ppn\n",
    "    - bool valid\n",
    "    + int get_ppn()\n",
    "    + void set_valid()\n",
    "    + void set_invalid()\n",
    "    + bool get_valid()\n",
    "}\n",
    "\n",
    "class Block\n",
    "{\n",
    "    - int block_num\n",
    "    - Page pages[]\n",
    "    + int get_block_num()\n",
    "    + Page get_pages()\n",
    "}\n",
    "\n",
    "class Chip\n",
    "{\n",
    "    - int chip_num\n",
    "    - Block blocks[]\n",
    "    + int get_chip_num()\n",
    "    + Block get_blocks()\n",
    "}\n",
    "\n",
    "class SuperBlock\n",
    "{\n",
    "    - int super_block_num\n",
    "    - Block blocks[]\n",
    "    + int get_super_block_num()\n",
    "    + Block get_blocks()\n",
    "}\n",
    "\n",
    "class SuperChip\n",
    "{\n",
    "    - int super_chip_num\n",
    "    - SuperBlock super_blocks[]\n",
    "    + int get_super_chip_num()\n",
    "    + SuperBlock get_super_blocks()\n",
    "}\n",
    "\n",
    "class FTL{\n",
    "    + int user_write_count\n",
    "    + int ftl_write_count\n",
    "    - int channel\n",
    "    - int way\n",
    "    - SuperChip super_chips[]\n",
    "    - dict mapping_table_lba_lpn\n",
    "    - dict mapping_table_lpn_ppn\n",
    "    + void set_channel(int channel_count)\n",
    "    + void set_way(int way_count)\n",
    "    + void write(int lba, int size)\n",
    "    + void do_gc(int block_count)\n",
    "    + void do_wear_leveling()\n",
    "}\n",
    "\n",
    "FTL - SuperChip : have >\n",
    "SuperChip - SuperBlock : have >\n",
    "SuperBlock - Block : have >\n",
    "Chip - Block : have >\n",
    "Block - Page : have >\n",
    "\n",
    "@enduml"
   ]
  }
 ],
 "metadata": {
  "kernelspec": {
   "display_name": "Python 3",
   "language": "python",
   "name": "python3"
  },
  "language_info": {
   "codemirror_mode": {
    "name": "ipython",
    "version": 3
   },
   "file_extension": ".py",
   "mimetype": "text/x-python",
   "name": "python",
   "nbconvert_exporter": "python",
   "pygments_lexer": "ipython3",
   "version": "3.8.10"
  }
 },
 "nbformat": 4,
 "nbformat_minor": 2
}
