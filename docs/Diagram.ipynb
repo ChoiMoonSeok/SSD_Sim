{
 "cells": [
  {
   "cell_type": "markdown",
   "metadata": {},
   "source": [
    "# UML"
   ]
  },
  {
   "cell_type": "code",
   "execution_count": 2,
   "metadata": {},
   "outputs": [],
   "source": [
    "import iplantuml"
   ]
  },
  {
   "cell_type": "markdown",
   "metadata": {},
   "source": [
    "## Class Diagram"
   ]
  },
  {
   "cell_type": "code",
   "execution_count": 3,
   "metadata": {},
   "outputs": [
    {
     "name": "stdout",
     "output_type": "stream",
     "text": [
      "Writing output for /home/chms/SSD_Sim/docs/4177a2ae-e4fa-480c-98c3-55a30a0e7497.uml to 4177a2ae-e4fa-480c-98c3-55a30a0e7497.svg\n"
     ]
    },
    {
     "data": {
      "image/svg+xml": [
       "<svg xmlns=\"http://www.w3.org/2000/svg\" xmlns:xlink=\"http://www.w3.org/1999/xlink\" contentStyleType=\"text/css\" height=\"257px\" preserveAspectRatio=\"none\" style=\"width:1464px;height:257px;background:#FFFFFF;\" version=\"1.1\" viewBox=\"0 0 1464 257\" width=\"1464px\" zoomAndPan=\"magnify\"><defs/><g><!--class Page--><g id=\"elem_Page\"><rect codeLine=\"1\" fill=\"#F1F1F1\" height=\"145.7813\" id=\"Page\" rx=\"2.5\" ry=\"2.5\" style=\"stroke:#181818;stroke-width:0.5;\" width=\"146\" x=\"1311.5\" y=\"56\"/><ellipse cx=\"1362.75\" cy=\"72\" fill=\"#ADD1B2\" rx=\"11\" ry=\"11\" style=\"stroke:#181818;stroke-width:1.0;\"/><path d=\"M1365.0938,67.6719 C1364.1563,67.2344 1363.5625,67.0938 1362.6875,67.0938 C1360.0625,67.0938 1358.0625,69.1719 1358.0625,71.8906 L1358.0625,73.0156 C1358.0625,75.5938 1360.1719,77.4844 1363.0625,77.4844 C1364.2813,77.4844 1365.4375,77.1875 1366.1875,76.6406 C1366.7656,76.2344 1367.0938,75.7813 1367.0938,75.3906 C1367.0938,74.9375 1366.7031,74.5469 1366.2344,74.5469 C1366.0156,74.5469 1365.8125,74.625 1365.625,74.8125 C1365.1719,75.2969 1365.1719,75.2969 1364.9844,75.3906 C1364.5625,75.6563 1363.875,75.7813 1363.1094,75.7813 C1361.0625,75.7813 1359.7656,74.6875 1359.7656,72.9844 L1359.7656,71.8906 C1359.7656,70.1094 1361.0156,68.7969 1362.75,68.7969 C1363.3281,68.7969 1363.9375,68.9531 1364.4063,69.2031 C1364.8906,69.4844 1365.0625,69.7031 1365.1563,70.1094 C1365.2188,70.5156 1365.25,70.6406 1365.3906,70.7656 C1365.5313,70.9063 1365.7656,71.0156 1365.9844,71.0156 C1366.25,71.0156 1366.5156,70.875 1366.6875,70.6563 C1366.7969,70.5 1366.8281,70.3125 1366.8281,69.8906 L1366.8281,68.4688 C1366.8281,68.0313 1366.8125,67.9063 1366.7188,67.75 C1366.5625,67.4844 1366.2813,67.3438 1365.9844,67.3438 C1365.6875,67.3438 1365.4844,67.4375 1365.2656,67.75 L1365.0938,67.6719 Z \" fill=\"#000000\"/><text fill=\"#000000\" font-family=\"sans-serif\" font-size=\"14\" lengthAdjust=\"spacing\" textLength=\"35\" x=\"1383.25\" y=\"76.8467\">Page</text><line style=\"stroke:#181818;stroke-width:0.5;\" x1=\"1312.5\" x2=\"1456.5\" y1=\"88\" y2=\"88\"/><rect fill=\"none\" height=\"6\" style=\"stroke:#C82930;stroke-width:1.0;\" width=\"6\" x=\"1319.5\" y=\"98.6484\"/><text fill=\"#000000\" font-family=\"sans-serif\" font-size=\"14\" lengthAdjust=\"spacing\" textLength=\"53\" x=\"1331.5\" y=\"104.9951\">int ppn</text><rect fill=\"none\" height=\"6\" style=\"stroke:#C82930;stroke-width:1.0;\" width=\"6\" x=\"1319.5\" y=\"114.9453\"/><text fill=\"#000000\" font-family=\"sans-serif\" font-size=\"14\" lengthAdjust=\"spacing\" textLength=\"69\" x=\"1331.5\" y=\"121.292\">bool valid</text><line style=\"stroke:#181818;stroke-width:0.5;\" x1=\"1312.5\" x2=\"1456.5\" y1=\"128.5938\" y2=\"128.5938\"/><ellipse cx=\"1322.5\" cy=\"142.2422\" fill=\"#84BE84\" rx=\"3\" ry=\"3\" style=\"stroke:#038048;stroke-width:1.0;\"/><text fill=\"#000000\" font-family=\"sans-serif\" font-size=\"14\" lengthAdjust=\"spacing\" textLength=\"95\" x=\"1331.5\" y=\"145.5889\">int get_ppn()</text><ellipse cx=\"1322.5\" cy=\"158.5391\" fill=\"#84BE84\" rx=\"3\" ry=\"3\" style=\"stroke:#038048;stroke-width:1.0;\"/><text fill=\"#000000\" font-family=\"sans-serif\" font-size=\"14\" lengthAdjust=\"spacing\" textLength=\"107\" x=\"1331.5\" y=\"161.8857\">void set_valid()</text><ellipse cx=\"1322.5\" cy=\"174.8359\" fill=\"#84BE84\" rx=\"3\" ry=\"3\" style=\"stroke:#038048;stroke-width:1.0;\"/><text fill=\"#000000\" font-family=\"sans-serif\" font-size=\"14\" lengthAdjust=\"spacing\" textLength=\"120\" x=\"1331.5\" y=\"178.1826\">void set_invalid()</text><ellipse cx=\"1322.5\" cy=\"191.1328\" fill=\"#84BE84\" rx=\"3\" ry=\"3\" style=\"stroke:#038048;stroke-width:1.0;\"/><text fill=\"#000000\" font-family=\"sans-serif\" font-size=\"14\" lengthAdjust=\"spacing\" textLength=\"111\" x=\"1331.5\" y=\"194.4795\">bool get_valid()</text></g><!--class Block--><g id=\"elem_Block\"><rect codeLine=\"11\" fill=\"#F1F1F1\" height=\"162.0781\" id=\"Block\" rx=\"2.5\" ry=\"2.5\" style=\"stroke:#181818;stroke-width:0.5;\" width=\"170\" x=\"1059.5\" y=\"48\"/><ellipse cx=\"1120.25\" cy=\"64\" fill=\"#ADD1B2\" rx=\"11\" ry=\"11\" style=\"stroke:#181818;stroke-width:1.0;\"/><path d=\"M1122.5938,59.6719 C1121.6563,59.2344 1121.0625,59.0938 1120.1875,59.0938 C1117.5625,59.0938 1115.5625,61.1719 1115.5625,63.8906 L1115.5625,65.0156 C1115.5625,67.5938 1117.6719,69.4844 1120.5625,69.4844 C1121.7813,69.4844 1122.9375,69.1875 1123.6875,68.6406 C1124.2656,68.2344 1124.5938,67.7813 1124.5938,67.3906 C1124.5938,66.9375 1124.2031,66.5469 1123.7344,66.5469 C1123.5156,66.5469 1123.3125,66.625 1123.125,66.8125 C1122.6719,67.2969 1122.6719,67.2969 1122.4844,67.3906 C1122.0625,67.6563 1121.375,67.7813 1120.6094,67.7813 C1118.5625,67.7813 1117.2656,66.6875 1117.2656,64.9844 L1117.2656,63.8906 C1117.2656,62.1094 1118.5156,60.7969 1120.25,60.7969 C1120.8281,60.7969 1121.4375,60.9531 1121.9063,61.2031 C1122.3906,61.4844 1122.5625,61.7031 1122.6563,62.1094 C1122.7188,62.5156 1122.75,62.6406 1122.8906,62.7656 C1123.0313,62.9063 1123.2656,63.0156 1123.4844,63.0156 C1123.75,63.0156 1124.0156,62.875 1124.1875,62.6563 C1124.2969,62.5 1124.3281,62.3125 1124.3281,61.8906 L1124.3281,60.4688 C1124.3281,60.0313 1124.3125,59.9063 1124.2188,59.75 C1124.0625,59.4844 1123.7813,59.3438 1123.4844,59.3438 C1123.1875,59.3438 1122.9844,59.4375 1122.7656,59.75 L1122.5938,59.6719 Z \" fill=\"#000000\"/><text fill=\"#000000\" font-family=\"sans-serif\" font-size=\"14\" lengthAdjust=\"spacing\" textLength=\"40\" x=\"1140.75\" y=\"68.8467\">Block</text><line style=\"stroke:#181818;stroke-width:0.5;\" x1=\"1060.5\" x2=\"1228.5\" y1=\"80\" y2=\"80\"/><rect fill=\"none\" height=\"6\" style=\"stroke:#C82930;stroke-width:1.0;\" width=\"6\" x=\"1067.5\" y=\"90.6484\"/><text fill=\"#000000\" font-family=\"sans-serif\" font-size=\"14\" lengthAdjust=\"spacing\" textLength=\"102\" x=\"1079.5\" y=\"96.9951\">int block_num</text><rect fill=\"none\" height=\"6\" style=\"stroke:#C82930;stroke-width:1.0;\" width=\"6\" x=\"1067.5\" y=\"106.9453\"/><text fill=\"#000000\" font-family=\"sans-serif\" font-size=\"14\" lengthAdjust=\"spacing\" textLength=\"105\" x=\"1079.5\" y=\"113.292\">int valid_count</text><rect fill=\"none\" height=\"6\" style=\"stroke:#C82930;stroke-width:1.0;\" width=\"6\" x=\"1067.5\" y=\"123.2422\"/><text fill=\"#000000\" font-family=\"sans-serif\" font-size=\"14\" lengthAdjust=\"spacing\" textLength=\"118\" x=\"1079.5\" y=\"129.5889\">int invalid_count</text><rect fill=\"none\" height=\"6\" style=\"stroke:#C82930;stroke-width:1.0;\" width=\"6\" x=\"1067.5\" y=\"139.5391\"/><text fill=\"#000000\" font-family=\"sans-serif\" font-size=\"14\" lengthAdjust=\"spacing\" textLength=\"111\" x=\"1079.5\" y=\"145.8857\">int erase_count</text><rect fill=\"none\" height=\"6\" style=\"stroke:#C82930;stroke-width:1.0;\" width=\"6\" x=\"1067.5\" y=\"155.8359\"/><text fill=\"#000000\" font-family=\"sans-serif\" font-size=\"14\" lengthAdjust=\"spacing\" textLength=\"92\" x=\"1079.5\" y=\"162.1826\">Page pages[]</text><line style=\"stroke:#181818;stroke-width:0.5;\" x1=\"1060.5\" x2=\"1228.5\" y1=\"169.4844\" y2=\"169.4844\"/><ellipse cx=\"1070.5\" cy=\"183.1328\" fill=\"#84BE84\" rx=\"3\" ry=\"3\" style=\"stroke:#038048;stroke-width:1.0;\"/><text fill=\"#000000\" font-family=\"sans-serif\" font-size=\"14\" lengthAdjust=\"spacing\" textLength=\"144\" x=\"1079.5\" y=\"186.4795\">int get_block_num()</text><ellipse cx=\"1070.5\" cy=\"199.4297\" fill=\"#84BE84\" rx=\"3\" ry=\"3\" style=\"stroke:#038048;stroke-width:1.0;\"/><text fill=\"#000000\" font-family=\"sans-serif\" font-size=\"14\" lengthAdjust=\"spacing\" textLength=\"124\" x=\"1079.5\" y=\"202.7764\">Page get_pages()</text></g><!--class Plane--><g id=\"elem_Plane\"><rect codeLine=\"22\" fill=\"#F1F1F1\" height=\"113.1875\" id=\"Plane\" rx=\"2.5\" ry=\"2.5\" style=\"stroke:#181818;stroke-width:0.5;\" width=\"146\" x=\"831.5\" y=\"72.5\"/><ellipse cx=\"880.75\" cy=\"88.5\" fill=\"#ADD1B2\" rx=\"11\" ry=\"11\" style=\"stroke:#181818;stroke-width:1.0;\"/><path d=\"M883.0938,84.1719 C882.1563,83.7344 881.5625,83.5938 880.6875,83.5938 C878.0625,83.5938 876.0625,85.6719 876.0625,88.3906 L876.0625,89.5156 C876.0625,92.0938 878.1719,93.9844 881.0625,93.9844 C882.2813,93.9844 883.4375,93.6875 884.1875,93.1406 C884.7656,92.7344 885.0938,92.2813 885.0938,91.8906 C885.0938,91.4375 884.7031,91.0469 884.2344,91.0469 C884.0156,91.0469 883.8125,91.125 883.625,91.3125 C883.1719,91.7969 883.1719,91.7969 882.9844,91.8906 C882.5625,92.1563 881.875,92.2813 881.1094,92.2813 C879.0625,92.2813 877.7656,91.1875 877.7656,89.4844 L877.7656,88.3906 C877.7656,86.6094 879.0156,85.2969 880.75,85.2969 C881.3281,85.2969 881.9375,85.4531 882.4063,85.7031 C882.8906,85.9844 883.0625,86.2031 883.1563,86.6094 C883.2188,87.0156 883.25,87.1406 883.3906,87.2656 C883.5313,87.4063 883.7656,87.5156 883.9844,87.5156 C884.25,87.5156 884.5156,87.375 884.6875,87.1563 C884.7969,87 884.8281,86.8125 884.8281,86.3906 L884.8281,84.9688 C884.8281,84.5313 884.8125,84.4063 884.7188,84.25 C884.5625,83.9844 884.2813,83.8438 883.9844,83.8438 C883.6875,83.8438 883.4844,83.9375 883.2656,84.25 L883.0938,84.1719 Z \" fill=\"#000000\"/><text fill=\"#000000\" font-family=\"sans-serif\" font-size=\"14\" lengthAdjust=\"spacing\" textLength=\"39\" x=\"901.25\" y=\"93.3467\">Plane</text><line style=\"stroke:#181818;stroke-width:0.5;\" x1=\"832.5\" x2=\"976.5\" y1=\"104.5\" y2=\"104.5\"/><rect fill=\"none\" height=\"6\" style=\"stroke:#C82930;stroke-width:1.0;\" width=\"6\" x=\"839.5\" y=\"115.1484\"/><text fill=\"#000000\" font-family=\"sans-serif\" font-size=\"14\" lengthAdjust=\"spacing\" textLength=\"102\" x=\"851.5\" y=\"121.4951\">int plane_num</text><rect fill=\"none\" height=\"6\" style=\"stroke:#C82930;stroke-width:1.0;\" width=\"6\" x=\"839.5\" y=\"131.4453\"/><text fill=\"#000000\" font-family=\"sans-serif\" font-size=\"14\" lengthAdjust=\"spacing\" textLength=\"101\" x=\"851.5\" y=\"137.792\">Block blocks[]</text><line style=\"stroke:#181818;stroke-width:0.5;\" x1=\"832.5\" x2=\"976.5\" y1=\"145.0938\" y2=\"145.0938\"/><ellipse cx=\"842.5\" cy=\"158.7422\" fill=\"#84BE84\" rx=\"3\" ry=\"3\" style=\"stroke:#038048;stroke-width:1.0;\"/><text fill=\"#000000\" font-family=\"sans-serif\" font-size=\"14\" lengthAdjust=\"spacing\" textLength=\"120\" x=\"851.5\" y=\"162.0889\">get_plane_num()</text><ellipse cx=\"842.5\" cy=\"175.0391\" fill=\"#84BE84\" rx=\"3\" ry=\"3\" style=\"stroke:#038048;stroke-width:1.0;\"/><text fill=\"#000000\" font-family=\"sans-serif\" font-size=\"14\" lengthAdjust=\"spacing\" textLength=\"89\" x=\"851.5\" y=\"178.3857\">get_blocks()</text></g><!--class Chip--><g id=\"elem_Chip\"><rect codeLine=\"30\" fill=\"#F1F1F1\" height=\"113.1875\" id=\"Chip\" rx=\"2.5\" ry=\"2.5\" style=\"stroke:#181818;stroke-width:0.5;\" width=\"161\" x=\"589\" y=\"72.5\"/><ellipse cx=\"648.75\" cy=\"88.5\" fill=\"#ADD1B2\" rx=\"11\" ry=\"11\" style=\"stroke:#181818;stroke-width:1.0;\"/><path d=\"M651.0938,84.1719 C650.1563,83.7344 649.5625,83.5938 648.6875,83.5938 C646.0625,83.5938 644.0625,85.6719 644.0625,88.3906 L644.0625,89.5156 C644.0625,92.0938 646.1719,93.9844 649.0625,93.9844 C650.2813,93.9844 651.4375,93.6875 652.1875,93.1406 C652.7656,92.7344 653.0938,92.2813 653.0938,91.8906 C653.0938,91.4375 652.7031,91.0469 652.2344,91.0469 C652.0156,91.0469 651.8125,91.125 651.625,91.3125 C651.1719,91.7969 651.1719,91.7969 650.9844,91.8906 C650.5625,92.1563 649.875,92.2813 649.1094,92.2813 C647.0625,92.2813 645.7656,91.1875 645.7656,89.4844 L645.7656,88.3906 C645.7656,86.6094 647.0156,85.2969 648.75,85.2969 C649.3281,85.2969 649.9375,85.4531 650.4063,85.7031 C650.8906,85.9844 651.0625,86.2031 651.1563,86.6094 C651.2188,87.0156 651.25,87.1406 651.3906,87.2656 C651.5313,87.4063 651.7656,87.5156 651.9844,87.5156 C652.25,87.5156 652.5156,87.375 652.6875,87.1563 C652.7969,87 652.8281,86.8125 652.8281,86.3906 L652.8281,84.9688 C652.8281,84.5313 652.8125,84.4063 652.7188,84.25 C652.5625,83.9844 652.2813,83.8438 651.9844,83.8438 C651.6875,83.8438 651.4844,83.9375 651.2656,84.25 L651.0938,84.1719 Z \" fill=\"#000000\"/><text fill=\"#000000\" font-family=\"sans-serif\" font-size=\"14\" lengthAdjust=\"spacing\" textLength=\"33\" x=\"669.25\" y=\"93.3467\">Chip</text><line style=\"stroke:#181818;stroke-width:0.5;\" x1=\"590\" x2=\"749\" y1=\"104.5\" y2=\"104.5\"/><rect fill=\"none\" height=\"6\" style=\"stroke:#C82930;stroke-width:1.0;\" width=\"6\" x=\"597\" y=\"115.1484\"/><text fill=\"#000000\" font-family=\"sans-serif\" font-size=\"14\" lengthAdjust=\"spacing\" textLength=\"93\" x=\"609\" y=\"121.4951\">int chip_num</text><rect fill=\"none\" height=\"6\" style=\"stroke:#C82930;stroke-width:1.0;\" width=\"6\" x=\"597\" y=\"131.4453\"/><text fill=\"#000000\" font-family=\"sans-serif\" font-size=\"14\" lengthAdjust=\"spacing\" textLength=\"100\" x=\"609\" y=\"137.792\">Plane planes[]</text><line style=\"stroke:#181818;stroke-width:0.5;\" x1=\"590\" x2=\"749\" y1=\"145.0938\" y2=\"145.0938\"/><ellipse cx=\"600\" cy=\"158.7422\" fill=\"#84BE84\" rx=\"3\" ry=\"3\" style=\"stroke:#038048;stroke-width:1.0;\"/><text fill=\"#000000\" font-family=\"sans-serif\" font-size=\"14\" lengthAdjust=\"spacing\" textLength=\"135\" x=\"609\" y=\"162.0889\">int get_chip_num()</text><ellipse cx=\"600\" cy=\"175.0391\" fill=\"#84BE84\" rx=\"3\" ry=\"3\" style=\"stroke:#038048;stroke-width:1.0;\"/><text fill=\"#000000\" font-family=\"sans-serif\" font-size=\"14\" lengthAdjust=\"spacing\" textLength=\"133\" x=\"609\" y=\"178.3857\">Block get_planes()</text></g><!--class Channel--><g id=\"elem_Channel\"><rect codeLine=\"38\" fill=\"#F1F1F1\" height=\"113.1875\" id=\"Channel\" rx=\"2.5\" ry=\"2.5\" style=\"stroke:#181818;stroke-width:0.5;\" width=\"186\" x=\"321.5\" y=\"72.5\"/><ellipse cx=\"381.25\" cy=\"88.5\" fill=\"#ADD1B2\" rx=\"11\" ry=\"11\" style=\"stroke:#181818;stroke-width:1.0;\"/><path d=\"M383.5938,84.1719 C382.6563,83.7344 382.0625,83.5938 381.1875,83.5938 C378.5625,83.5938 376.5625,85.6719 376.5625,88.3906 L376.5625,89.5156 C376.5625,92.0938 378.6719,93.9844 381.5625,93.9844 C382.7813,93.9844 383.9375,93.6875 384.6875,93.1406 C385.2656,92.7344 385.5938,92.2813 385.5938,91.8906 C385.5938,91.4375 385.2031,91.0469 384.7344,91.0469 C384.5156,91.0469 384.3125,91.125 384.125,91.3125 C383.6719,91.7969 383.6719,91.7969 383.4844,91.8906 C383.0625,92.1563 382.375,92.2813 381.6094,92.2813 C379.5625,92.2813 378.2656,91.1875 378.2656,89.4844 L378.2656,88.3906 C378.2656,86.6094 379.5156,85.2969 381.25,85.2969 C381.8281,85.2969 382.4375,85.4531 382.9063,85.7031 C383.3906,85.9844 383.5625,86.2031 383.6563,86.6094 C383.7188,87.0156 383.75,87.1406 383.8906,87.2656 C384.0313,87.4063 384.2656,87.5156 384.4844,87.5156 C384.75,87.5156 385.0156,87.375 385.1875,87.1563 C385.2969,87 385.3281,86.8125 385.3281,86.3906 L385.3281,84.9688 C385.3281,84.5313 385.3125,84.4063 385.2188,84.25 C385.0625,83.9844 384.7813,83.8438 384.4844,83.8438 C384.1875,83.8438 383.9844,83.9375 383.7656,84.25 L383.5938,84.1719 Z \" fill=\"#000000\"/><text fill=\"#000000\" font-family=\"sans-serif\" font-size=\"14\" lengthAdjust=\"spacing\" textLength=\"58\" x=\"401.75\" y=\"93.3467\">Channel</text><line style=\"stroke:#181818;stroke-width:0.5;\" x1=\"322.5\" x2=\"506.5\" y1=\"104.5\" y2=\"104.5\"/><rect fill=\"none\" height=\"6\" style=\"stroke:#C82930;stroke-width:1.0;\" width=\"6\" x=\"329.5\" y=\"115.1484\"/><text fill=\"#000000\" font-family=\"sans-serif\" font-size=\"14\" lengthAdjust=\"spacing\" textLength=\"118\" x=\"341.5\" y=\"121.4951\">int channel_num</text><rect fill=\"none\" height=\"6\" style=\"stroke:#C82930;stroke-width:1.0;\" width=\"6\" x=\"329.5\" y=\"131.4453\"/><text fill=\"#000000\" font-family=\"sans-serif\" font-size=\"14\" lengthAdjust=\"spacing\" textLength=\"85\" x=\"341.5\" y=\"137.792\">Chip chips[]</text><line style=\"stroke:#181818;stroke-width:0.5;\" x1=\"322.5\" x2=\"506.5\" y1=\"145.0938\" y2=\"145.0938\"/><ellipse cx=\"332.5\" cy=\"158.7422\" fill=\"#84BE84\" rx=\"3\" ry=\"3\" style=\"stroke:#038048;stroke-width:1.0;\"/><text fill=\"#000000\" font-family=\"sans-serif\" font-size=\"14\" lengthAdjust=\"spacing\" textLength=\"160\" x=\"341.5\" y=\"162.0889\">int get_channel_num()</text><ellipse cx=\"332.5\" cy=\"175.0391\" fill=\"#84BE84\" rx=\"3\" ry=\"3\" style=\"stroke:#038048;stroke-width:1.0;\"/><text fill=\"#000000\" font-family=\"sans-serif\" font-size=\"14\" lengthAdjust=\"spacing\" textLength=\"117\" x=\"341.5\" y=\"178.3857\">Chip get_chips()</text></g><!--class FTL--><g id=\"elem_FTL\"><rect codeLine=\"46\" fill=\"#F1F1F1\" height=\"243.5625\" id=\"FTL\" rx=\"2.5\" ry=\"2.5\" style=\"stroke:#181818;stroke-width:0.5;\" width=\"233\" x=\"7\" y=\"7\"/><ellipse cx=\"106.75\" cy=\"23\" fill=\"#ADD1B2\" rx=\"11\" ry=\"11\" style=\"stroke:#181818;stroke-width:1.0;\"/><path d=\"M109.0938,18.6719 C108.1563,18.2344 107.5625,18.0938 106.6875,18.0938 C104.0625,18.0938 102.0625,20.1719 102.0625,22.8906 L102.0625,24.0156 C102.0625,26.5938 104.1719,28.4844 107.0625,28.4844 C108.2813,28.4844 109.4375,28.1875 110.1875,27.6406 C110.7656,27.2344 111.0938,26.7813 111.0938,26.3906 C111.0938,25.9375 110.7031,25.5469 110.2344,25.5469 C110.0156,25.5469 109.8125,25.625 109.625,25.8125 C109.1719,26.2969 109.1719,26.2969 108.9844,26.3906 C108.5625,26.6563 107.875,26.7813 107.1094,26.7813 C105.0625,26.7813 103.7656,25.6875 103.7656,23.9844 L103.7656,22.8906 C103.7656,21.1094 105.0156,19.7969 106.75,19.7969 C107.3281,19.7969 107.9375,19.9531 108.4063,20.2031 C108.8906,20.4844 109.0625,20.7031 109.1563,21.1094 C109.2188,21.5156 109.25,21.6406 109.3906,21.7656 C109.5313,21.9063 109.7656,22.0156 109.9844,22.0156 C110.25,22.0156 110.5156,21.875 110.6875,21.6563 C110.7969,21.5 110.8281,21.3125 110.8281,20.8906 L110.8281,19.4688 C110.8281,19.0313 110.8125,18.9063 110.7188,18.75 C110.5625,18.4844 110.2813,18.3438 109.9844,18.3438 C109.6875,18.3438 109.4844,18.4375 109.2656,18.75 L109.0938,18.6719 Z \" fill=\"#000000\"/><text fill=\"#000000\" font-family=\"sans-serif\" font-size=\"14\" lengthAdjust=\"spacing\" textLength=\"25\" x=\"127.25\" y=\"27.8467\">FTL</text><line style=\"stroke:#181818;stroke-width:0.5;\" x1=\"8\" x2=\"239\" y1=\"39\" y2=\"39\"/><ellipse cx=\"18\" cy=\"52.6484\" fill=\"none\" rx=\"3\" ry=\"3\" style=\"stroke:#038048;stroke-width:1.0;\"/><text fill=\"#000000\" font-family=\"sans-serif\" font-size=\"14\" lengthAdjust=\"spacing\" textLength=\"146\" x=\"27\" y=\"55.9951\">int user_write_count</text><ellipse cx=\"18\" cy=\"68.9453\" fill=\"none\" rx=\"3\" ry=\"3\" style=\"stroke:#038048;stroke-width:1.0;\"/><text fill=\"#000000\" font-family=\"sans-serif\" font-size=\"14\" lengthAdjust=\"spacing\" textLength=\"133\" x=\"27\" y=\"72.292\">int ftl_write_count</text><rect fill=\"none\" height=\"6\" style=\"stroke:#C82930;stroke-width:1.0;\" width=\"6\" x=\"15\" y=\"82.2422\"/><text fill=\"#000000\" font-family=\"sans-serif\" font-size=\"14\" lengthAdjust=\"spacing\" textLength=\"80\" x=\"27\" y=\"88.5889\">int channel</text><rect fill=\"none\" height=\"6\" style=\"stroke:#C82930;stroke-width:1.0;\" width=\"6\" x=\"15\" y=\"98.5391\"/><text fill=\"#000000\" font-family=\"sans-serif\" font-size=\"14\" lengthAdjust=\"spacing\" textLength=\"150\" x=\"27\" y=\"104.8857\">int chip_per_channel</text><rect fill=\"none\" height=\"6\" style=\"stroke:#C82930;stroke-width:1.0;\" width=\"6\" x=\"15\" y=\"114.8359\"/><text fill=\"#000000\" font-family=\"sans-serif\" font-size=\"14\" lengthAdjust=\"spacing\" textLength=\"134\" x=\"27\" y=\"121.1826\">int plane_per_chip</text><rect fill=\"none\" height=\"6\" style=\"stroke:#C82930;stroke-width:1.0;\" width=\"6\" x=\"15\" y=\"131.1328\"/><text fill=\"#000000\" font-family=\"sans-serif\" font-size=\"14\" lengthAdjust=\"spacing\" textLength=\"143\" x=\"27\" y=\"137.4795\">int block_per_plane</text><rect fill=\"none\" height=\"6\" style=\"stroke:#C82930;stroke-width:1.0;\" width=\"6\" x=\"15\" y=\"147.4297\"/><text fill=\"#000000\" font-family=\"sans-serif\" font-size=\"14\" lengthAdjust=\"spacing\" textLength=\"139\" x=\"27\" y=\"153.7764\">int page_per_block</text><rect fill=\"none\" height=\"6\" style=\"stroke:#C82930;stroke-width:1.0;\" width=\"6\" x=\"15\" y=\"163.7266\"/><text fill=\"#000000\" font-family=\"sans-serif\" font-size=\"14\" lengthAdjust=\"spacing\" textLength=\"200\" x=\"27\" y=\"170.0732\">dict mapping_table_lba_lpn</text><rect fill=\"none\" height=\"6\" style=\"stroke:#C82930;stroke-width:1.0;\" width=\"6\" x=\"15\" y=\"180.0234\"/><text fill=\"#000000\" font-family=\"sans-serif\" font-size=\"14\" lengthAdjust=\"spacing\" textLength=\"207\" x=\"27\" y=\"186.3701\">dict mapping_table_lpn_ppn</text><line style=\"stroke:#181818;stroke-width:0.5;\" x1=\"8\" x2=\"239\" y1=\"193.6719\" y2=\"193.6719\"/><ellipse cx=\"18\" cy=\"207.3203\" fill=\"#84BE84\" rx=\"3\" ry=\"3\" style=\"stroke:#038048;stroke-width:1.0;\"/><text fill=\"#000000\" font-family=\"sans-serif\" font-size=\"14\" lengthAdjust=\"spacing\" textLength=\"187\" x=\"27\" y=\"210.667\">void write(int lba, int size)</text><ellipse cx=\"18\" cy=\"223.6172\" fill=\"#84BE84\" rx=\"3\" ry=\"3\" style=\"stroke:#038048;stroke-width:1.0;\"/><text fill=\"#000000\" font-family=\"sans-serif\" font-size=\"14\" lengthAdjust=\"spacing\" textLength=\"198\" x=\"27\" y=\"226.9639\">void do_gc(int block_count)</text><ellipse cx=\"18\" cy=\"239.9141\" fill=\"#84BE84\" rx=\"3\" ry=\"3\" style=\"stroke:#038048;stroke-width:1.0;\"/><text fill=\"#000000\" font-family=\"sans-serif\" font-size=\"14\" lengthAdjust=\"spacing\" textLength=\"166\" x=\"27\" y=\"243.2607\">void do_wear_leveling()</text></g><!--link FTL to Channel--><g id=\"link_FTL_Channel\"><path codeLine=\"61\" d=\"M240.184,129 C267.065,129 295.312,129 321.056,129 \" fill=\"none\" id=\"FTL-Channel\" style=\"stroke:#181818;stroke-width:1.0;\"/><polygon fill=\"#000000\" points=\"267.25,117.5664,258.2049,114.6275,258.2049,120.5053,267.25,117.5664\" style=\"stroke:#000000;stroke-width:1.0;\"/><text fill=\"#000000\" font-family=\"sans-serif\" font-size=\"13\" lengthAdjust=\"spacing\" textLength=\"32\" x=\"271.25\" y=\"122.0669\">have</text></g><!--link Channel to Chip--><g id=\"link_Channel_Chip\"><path codeLine=\"62\" d=\"M507.643,129 C534.248,129 563.01,129 588.805,129 \" fill=\"none\" id=\"Channel-Chip\" style=\"stroke:#181818;stroke-width:1.0;\"/><polygon fill=\"#000000\" points=\"534.75,117.5664,525.7049,114.6275,525.7049,120.5053,534.75,117.5664\" style=\"stroke:#000000;stroke-width:1.0;\"/><text fill=\"#000000\" font-family=\"sans-serif\" font-size=\"13\" lengthAdjust=\"spacing\" textLength=\"32\" x=\"538.75\" y=\"122.0669\">have</text></g><!--link Chip to Plane--><g id=\"link_Chip_Plane\"><path codeLine=\"63\" d=\"M750.045,129 C776.353,129 805.412,129 831.16,129 \" fill=\"none\" id=\"Chip-Plane\" style=\"stroke:#181818;stroke-width:1.0;\"/><polygon fill=\"#000000\" points=\"777.25,117.5664,768.2049,114.6275,768.2049,120.5053,777.25,117.5664\" style=\"stroke:#000000;stroke-width:1.0;\"/><text fill=\"#000000\" font-family=\"sans-serif\" font-size=\"13\" lengthAdjust=\"spacing\" textLength=\"32\" x=\"781.25\" y=\"122.0669\">have</text></g><!--link Plane to Block--><g id=\"link_Plane_Block\"><path codeLine=\"64\" d=\"M977.812,129 C1003.59,129 1032.77,129 1059.44,129 \" fill=\"none\" id=\"Plane-Block\" style=\"stroke:#181818;stroke-width:1.0;\"/><polygon fill=\"#000000\" points=\"1005,117.5664,995.9549,114.6275,995.9549,120.5053,1005,117.5664\" style=\"stroke:#000000;stroke-width:1.0;\"/><text fill=\"#000000\" font-family=\"sans-serif\" font-size=\"13\" lengthAdjust=\"spacing\" textLength=\"32\" x=\"1009\" y=\"122.0669\">have</text></g><!--link Block to Page--><g id=\"link_Block_Page\"><path codeLine=\"65\" d=\"M1229.79,129 C1256.47,129 1285.65,129 1311.41,129 \" fill=\"none\" id=\"Block-Page\" style=\"stroke:#181818;stroke-width:1.0;\"/><polygon fill=\"#000000\" points=\"1257,117.5664,1247.9549,114.6275,1247.9549,120.5053,1257,117.5664\" style=\"stroke:#000000;stroke-width:1.0;\"/><text fill=\"#000000\" font-family=\"sans-serif\" font-size=\"13\" lengthAdjust=\"spacing\" textLength=\"32\" x=\"1261\" y=\"122.0669\">have</text></g><!--SRC=[RPEzRiCW58LtFmMZgxOlqA53AtNgaA5RLI6CRnrKWf71ZjIexrwu_0HmCaJYt0FVkHV39JE67DW4tQKZxlT8XB94QnLNmpnBiZ4fHXJkiJo1fSxItqLjcyL8Z1FHk9U5gWjuw5Ju_xgEOv8NEVEVAihW5QhMKw7XDihdLTb2ZPIT3WipKAc-NwBTd_dyQjhAk1mMpTYntr26FKYcchbvfGYBxOGMhYWyAnap9iChnEjHw8h0dL00C4B0xdj9tim8SJA_8J6bG3Omr0gUpuCPRj6oEGFHdg9KkBUFzqjnm6fWeUT5sFAYGkdRobsbYjTEHxkZzgKmyL1pCsq_C5z0Ixd5NJWMq18Be-2Md9ZMGatKia42bGEZCh-OMmQjQ7fIyLbWHxsdkDqFY3FY5wgdCyvqulqr8_RVEix05YfX0-buOS9kjdXLE0BoH8vi0_BS9I7UOg6xLVgKiXgMwHFESbZ69vJKVm00]--></g></svg>"
      ],
      "text/plain": [
       "<IPython.core.display.SVG object>"
      ]
     },
     "execution_count": 3,
     "metadata": {},
     "output_type": "execute_result"
    }
   ],
   "source": [
    "%%plantuml\n",
    "@startuml\n",
    "\n",
    "class Page\n",
    "{\n",
    "    - int ppn\n",
    "    - bool valid\n",
    "    + int get_ppn()\n",
    "    + void set_valid()\n",
    "    + void set_invalid()\n",
    "    + bool get_valid()\n",
    "}\n",
    "\n",
    "class Block\n",
    "{\n",
    "    - int block_num\n",
    "    - int valid_count\n",
    "    - int invalid_count\n",
    "    - int erase_count\n",
    "    - Page pages[]\n",
    "    + int get_block_num()\n",
    "    + Page get_pages()\n",
    "}\n",
    "\n",
    "class Plane\n",
    "{\n",
    "    - int plane_num\n",
    "    - Block blocks[]\n",
    "    + get_plane_num()\n",
    "    + get_blocks()\n",
    "}\n",
    "\n",
    "class Chip\n",
    "{\n",
    "    - int chip_num\n",
    "    - Plane planes[]\n",
    "    + int get_chip_num()\n",
    "    + Block get_planes()\n",
    "}\n",
    "\n",
    "class Channel\n",
    "{\n",
    "    - int channel_num\n",
    "    - Chip chips[]\n",
    "    + int get_channel_num()\n",
    "    + Chip get_chips()\n",
    "}\n",
    "\n",
    "class FTL{\n",
    "    + int user_write_count\n",
    "    + int ftl_write_count\n",
    "    - int channel\n",
    "    - int chip_per_channel\n",
    "    - int plane_per_chip\n",
    "    - int block_per_plane\n",
    "    - int page_per_block\n",
    "    - dict mapping_table_lba_lpn\n",
    "    - dict mapping_table_lpn_ppn\n",
    "    + void write(int lba, int size)\n",
    "    + void do_gc(int block_count)\n",
    "    + void do_wear_leveling()\n",
    "}\n",
    "\n",
    "FTL - Channel : have >\n",
    "Channel - Chip : have >\n",
    "Chip - Plane : have >\n",
    "Plane - Block : have >\n",
    "Block - Page : have >\n",
    "\n",
    "@enduml"
   ]
  }
 ],
 "metadata": {
  "kernelspec": {
   "display_name": "Python 3",
   "language": "python",
   "name": "python3"
  },
  "language_info": {
   "codemirror_mode": {
    "name": "ipython",
    "version": 3
   },
   "file_extension": ".py",
   "mimetype": "text/x-python",
   "name": "python",
   "nbconvert_exporter": "python",
   "pygments_lexer": "ipython3",
   "version": "3.8.10"
  }
 },
 "nbformat": 4,
 "nbformat_minor": 2
}
